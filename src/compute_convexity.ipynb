{
 "cells": [
  {
   "cell_type": "code",
   "execution_count": 1,
   "metadata": {},
   "outputs": [
    {
     "name": "stderr",
     "output_type": "stream",
     "text": [
      "2024-07-27 07:35:25,994 [INFO] [ib_naming_model - load_model] loading model from file: ./models/IB_color_naming_model/model.pkl\n"
     ]
    }
   ],
   "source": [
    "import pickle\n",
    "import numpy as np\n",
    "import pandas as pd\n",
    "import matplotlib.pyplot as plt\n",
    "from ib_color_naming.src.ib_naming_model import load_model\n",
    "from ib_color_naming.src. figures import mode_map\n",
    "ib_model = load_model()\n",
    "from misc import gaussian_model, contour_maps, get_convexity, get_soft_convexity, get_vertical\n",
    "cielab = pd.read_csv('data/munsell_chart.txt', sep='\\t')[['L*', 'a*', 'b*']].values\n",
    "\n",
    "def generate_random_speaker(k):\n",
    "    speaker = np.zeros((330, k))\n",
    "    for i in range(330):\n",
    "        idx = np.random.choice(k)\n",
    "        speaker[i, idx] = 1\n",
    "    return speaker\n"
   ]
  },
  {
   "cell_type": "code",
   "execution_count": 2,
   "metadata": {},
   "outputs": [],
   "source": [
    "# load wcs speakers \n",
    "df = []\n",
    "with open('data/wcs_encoders.pkl', 'rb') as f:\n",
    "    wcs_speakers = pickle.load(f)\n",
    "\n",
    "with open('iterated_learning_exp_cogsci/random_model/encoders.pkl', 'rb') as f:\n",
    "    random_model = pickle.load(f)\n",
    "\n",
    "hue_speakers = get_vertical(10)\n",
    "    # Soft convexity not used in the paper, only hard convexity.\n",
    "    # Definition didn't make much sense in the end (just some sort of conditional probability?). \n",
    "    # Keeping it in case it turns out to be useful for something else.\n",
    "    # The Hard convexity is the same convexity measure used by Steinert-Threlkeld, J Szymanik 2020. \n",
    "\n",
    "for speaker in wcs_speakers:\n",
    "    hard_conv = get_convexity(speaker)\n",
    "    soft_conv = get_soft_convexity(speaker, ib_model.pM.flatten())\n",
    "    results = {'Type': 'WCS' ,'Hard': hard_conv, 'Soft': soft_conv}\n",
    "    df.append(results)\n",
    "\n",
    "for speaker in hue_speakers:\n",
    "    hard_conv = get_convexity(speaker)\n",
    "    soft_conv = get_soft_convexity(speaker, ib_model.pM.flatten())\n",
    "    results = {'Type': 'Hue' ,'Hard': hard_conv, 'Soft': soft_conv}\n",
    "    df.append(results)\n",
    "\n",
    "for speaker in random_model:\n",
    "    hard_conv = get_convexity(speaker)\n",
    "    soft_conv = get_soft_convexity(speaker, ib_model.pM.flatten())\n",
    "    results = {'Type': 'Random' ,'Hard': hard_conv, 'Soft': soft_conv}\n",
    "    if hard_conv < 1:\n",
    "        print(hard_conv)\n",
    "    df.append(results)\n",
    "\n",
    "\n",
    "\n",
    "df = pd.DataFrame(df)"
   ]
  },
  {
   "cell_type": "code",
   "execution_count": 3,
   "metadata": {},
   "outputs": [
    {
     "name": "stdout",
     "output_type": "stream",
     "text": [
      "WCS: Hard Conv: 0.9400272727272728 +/- 0.040150738700325525\n",
      "Random: Hard Conv: 1.0 +/- 0.0\n",
      "Hue: Hard Conv: 1.0 +/- 0.0\n"
     ]
    }
   ],
   "source": [
    "print(f\"WCS: Hard Conv: {df[df['Type'] == 'WCS']['Hard'].mean()} +/- {df[df['Type'] == 'WCS']['Hard'].std()}\")\n",
    "print(f\"Random: Hard Conv: {df[df['Type'] == 'Random']['Hard'].mean()} +/- {df[df['Type'] == 'Random']['Hard'].std()}\")\n",
    "print(f\"Hue: Hard Conv: {df[df['Type'] == 'Hue']['Hard'].mean()} +/- {df[df['Type'] == 'Hue']['Hard'].std()}\")\n",
    "\n",
    "# WCS results replicates the ideas of Jäger and Gärdenfors but with a different measure of convexity.\n",
    "# Value of 1 means perfect convexity, 0 means no convexity."
   ]
  }
 ],
 "metadata": {
  "kernelspec": {
   "display_name": "p3-9",
   "language": "python",
   "name": "python3"
  },
  "language_info": {
   "codemirror_mode": {
    "name": "ipython",
    "version": 3
   },
   "file_extension": ".py",
   "mimetype": "text/x-python",
   "name": "python",
   "nbconvert_exporter": "python",
   "pygments_lexer": "ipython3",
   "version": "3.10.9"
  }
 },
 "nbformat": 4,
 "nbformat_minor": 2
}
